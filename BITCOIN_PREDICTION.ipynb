{
  "nbformat": 4,
  "nbformat_minor": 0,
  "metadata": {
    "colab": {
      "provenance": []
    },
    "kernelspec": {
      "name": "python3",
      "display_name": "Python 3"
    },
    "language_info": {
      "name": "python"
    }
  },
  "cells": [
    {
      "cell_type": "code",
      "execution_count": 2,
      "metadata": {
        "id": "eEG08VxZaGG0"
      },
      "outputs": [],
      "source": [
        "import pandas as pd\n",
        "import numpy as np\n",
        "import pandas_datareader.data as web\n",
        "import datetime as dt\n",
        "from datetime import timedelta\n",
        "from sklearn.preprocessing import MinMaxScaler\n",
        "import tensorflow as tf\n",
        "from tensorflow import lite\n",
        "from tensorflow.keras.models import Sequential\n",
        "from tensorflow.keras.layers import Dense, Dropout, LSTM\n",
        "import matplotlib.pyplot as plt"
      ]
    },
    {
      "cell_type": "code",
      "source": [
        "pip install yfinance\n"
      ],
      "metadata": {
        "colab": {
          "base_uri": "https://localhost:8080/"
        },
        "id": "pgW9Q16ulb6f",
        "outputId": "aa2aeb74-c351-4d7f-caa3-7d3fb6e61a16"
      },
      "execution_count": 3,
      "outputs": [
        {
          "output_type": "stream",
          "name": "stdout",
          "text": [
            "Requirement already satisfied: yfinance in /usr/local/lib/python3.10/dist-packages (0.2.37)\n",
            "Requirement already satisfied: pandas>=1.3.0 in /usr/local/lib/python3.10/dist-packages (from yfinance) (2.0.3)\n",
            "Requirement already satisfied: numpy>=1.16.5 in /usr/local/lib/python3.10/dist-packages (from yfinance) (1.25.2)\n",
            "Requirement already satisfied: requests>=2.31 in /usr/local/lib/python3.10/dist-packages (from yfinance) (2.31.0)\n",
            "Requirement already satisfied: multitasking>=0.0.7 in /usr/local/lib/python3.10/dist-packages (from yfinance) (0.0.11)\n",
            "Requirement already satisfied: lxml>=4.9.1 in /usr/local/lib/python3.10/dist-packages (from yfinance) (4.9.4)\n",
            "Requirement already satisfied: appdirs>=1.4.4 in /usr/local/lib/python3.10/dist-packages (from yfinance) (1.4.4)\n",
            "Requirement already satisfied: pytz>=2022.5 in /usr/local/lib/python3.10/dist-packages (from yfinance) (2023.4)\n",
            "Requirement already satisfied: frozendict>=2.3.4 in /usr/local/lib/python3.10/dist-packages (from yfinance) (2.4.1)\n",
            "Requirement already satisfied: peewee>=3.16.2 in /usr/local/lib/python3.10/dist-packages (from yfinance) (3.17.1)\n",
            "Requirement already satisfied: beautifulsoup4>=4.11.1 in /usr/local/lib/python3.10/dist-packages (from yfinance) (4.12.3)\n",
            "Requirement already satisfied: html5lib>=1.1 in /usr/local/lib/python3.10/dist-packages (from yfinance) (1.1)\n",
            "Requirement already satisfied: soupsieve>1.2 in /usr/local/lib/python3.10/dist-packages (from beautifulsoup4>=4.11.1->yfinance) (2.5)\n",
            "Requirement already satisfied: six>=1.9 in /usr/local/lib/python3.10/dist-packages (from html5lib>=1.1->yfinance) (1.16.0)\n",
            "Requirement already satisfied: webencodings in /usr/local/lib/python3.10/dist-packages (from html5lib>=1.1->yfinance) (0.5.1)\n",
            "Requirement already satisfied: python-dateutil>=2.8.2 in /usr/local/lib/python3.10/dist-packages (from pandas>=1.3.0->yfinance) (2.8.2)\n",
            "Requirement already satisfied: tzdata>=2022.1 in /usr/local/lib/python3.10/dist-packages (from pandas>=1.3.0->yfinance) (2024.1)\n",
            "Requirement already satisfied: charset-normalizer<4,>=2 in /usr/local/lib/python3.10/dist-packages (from requests>=2.31->yfinance) (3.3.2)\n",
            "Requirement already satisfied: idna<4,>=2.5 in /usr/local/lib/python3.10/dist-packages (from requests>=2.31->yfinance) (3.6)\n",
            "Requirement already satisfied: urllib3<3,>=1.21.1 in /usr/local/lib/python3.10/dist-packages (from requests>=2.31->yfinance) (2.0.7)\n",
            "Requirement already satisfied: certifi>=2017.4.17 in /usr/local/lib/python3.10/dist-packages (from requests>=2.31->yfinance) (2024.2.2)\n"
          ]
        }
      ]
    },
    {
      "cell_type": "code",
      "source": [
        "import yfinance as yf\n",
        "import datetime as dt\n",
        "\n",
        "\n",
        "company = \"BTC-USD\"\n",
        "\n",
        "\n",
        "start = dt.datetime(2015, 1, 1)\n",
        "end = dt.datetime(2022, 1, 1)\n",
        "\n",
        "data = yf.download(company, start=start, end=end)\n",
        "\n",
        "\n",
        "print(data)\n"
      ],
      "metadata": {
        "colab": {
          "base_uri": "https://localhost:8080/"
        },
        "id": "hcRUDL6heGbT",
        "outputId": "5b6368d3-36b1-4e6d-815a-7884555f73da"
      },
      "execution_count": 4,
      "outputs": [
        {
          "output_type": "stream",
          "name": "stderr",
          "text": [
            "\r[*********************100%%**********************]  1 of 1 completed"
          ]
        },
        {
          "output_type": "stream",
          "name": "stdout",
          "text": [
            "                    Open          High           Low         Close  \\\n",
            "Date                                                                 \n",
            "2015-01-01    320.434998    320.434998    314.002991    314.248993   \n",
            "2015-01-02    314.079010    315.838989    313.565002    315.032013   \n",
            "2015-01-03    314.846008    315.149994    281.082001    281.082001   \n",
            "2015-01-04    281.145996    287.230011    257.612000    264.195007   \n",
            "2015-01-05    265.084015    278.341003    265.084015    274.473999   \n",
            "...                  ...           ...           ...           ...   \n",
            "2021-12-27  50802.609375  51956.328125  50499.468750  50640.417969   \n",
            "2021-12-28  50679.859375  50679.859375  47414.210938  47588.855469   \n",
            "2021-12-29  47623.871094  48119.742188  46201.496094  46444.710938   \n",
            "2021-12-30  46490.605469  47879.964844  46060.312500  47178.125000   \n",
            "2021-12-31  47169.371094  48472.527344  45819.953125  46306.445312   \n",
            "\n",
            "               Adj Close       Volume  \n",
            "Date                                   \n",
            "2015-01-01    314.248993      8036550  \n",
            "2015-01-02    315.032013      7860650  \n",
            "2015-01-03    281.082001     33054400  \n",
            "2015-01-04    264.195007     55629100  \n",
            "2015-01-05    274.473999     43962800  \n",
            "...                  ...          ...  \n",
            "2021-12-27  50640.417969  24324345758  \n",
            "2021-12-28  47588.855469  33430376883  \n",
            "2021-12-29  46444.710938  30049226299  \n",
            "2021-12-30  47178.125000  26686491018  \n",
            "2021-12-31  46306.445312  36974172400  \n",
            "\n",
            "[2557 rows x 6 columns]\n"
          ]
        },
        {
          "output_type": "stream",
          "name": "stderr",
          "text": [
            "\n"
          ]
        }
      ]
    },
    {
      "cell_type": "code",
      "source": [
        "from google.colab import drive\n",
        "drive.mount('/content/drive')"
      ],
      "metadata": {
        "colab": {
          "base_uri": "https://localhost:8080/"
        },
        "id": "iKFTcUDPhowe",
        "outputId": "e0e575ef-9561-4915-c14e-f764f277f35d"
      },
      "execution_count": 5,
      "outputs": [
        {
          "output_type": "stream",
          "name": "stdout",
          "text": [
            "Mounted at /content/drive\n"
          ]
        }
      ]
    },
    {
      "cell_type": "code",
      "source": [
        "scaler = MinMaxScaler(feature_range=(0,1))\n",
        "scaled_data = scaler.fit_transform(data['Close'].values.reshape(-1,1))\n",
        "\n",
        "prediction_days = 60\n",
        "\n",
        "x_train = []\n",
        "y_train = []\n",
        "\n",
        "for x in range(prediction_days, len(scaled_data)):\n",
        "    x_train.append(scaled_data[x-prediction_days:x, 0])\n",
        "    y_train.append(scaled_data[x, 0])\n",
        "\n",
        "\n",
        "x_train, y_train = np.array(x_train), np.array(y_train)\n",
        "x_train = np.reshape(x_train, (x_train.shape[0], x_train.shape[1], 1))\n"
      ],
      "metadata": {
        "id": "KcrTk87ReIc0"
      },
      "execution_count": 6,
      "outputs": []
    },
    {
      "cell_type": "code",
      "source": [
        "model = Sequential()\n",
        "\n",
        "model.add(LSTM(units=50, return_sequences=True, input_shape = (x_train.shape[1], 1)))\n",
        "model.add(Dropout(0.2))\n",
        "model.add(LSTM(units=50, return_sequences=True))\n",
        "model.add(Dropout(0.2))\n",
        "model.add(LSTM(units=50))\n",
        "model.add(Dropout(0.2))\n",
        "model.add(Dense(units=1))\n",
        "\n",
        "\n",
        "model.compile(optimizer=\"adam\", loss=\"mean_squared_error\")\n",
        "model.fit(x_train, y_train, epochs=15, batch_size=32)"
      ],
      "metadata": {
        "colab": {
          "base_uri": "https://localhost:8080/"
        },
        "id": "CTyoIBU6eLSv",
        "outputId": "539f7feb-da5f-4eb3-b1f3-c10d04d54cb5"
      },
      "execution_count": 7,
      "outputs": [
        {
          "output_type": "stream",
          "name": "stdout",
          "text": [
            "Epoch 1/15\n",
            "79/79 [==============================] - 14s 90ms/step - loss: 0.0073\n",
            "Epoch 2/15\n",
            "79/79 [==============================] - 7s 86ms/step - loss: 0.0024\n",
            "Epoch 3/15\n",
            "79/79 [==============================] - 8s 100ms/step - loss: 0.0023\n",
            "Epoch 4/15\n",
            "79/79 [==============================] - 7s 93ms/step - loss: 0.0018\n",
            "Epoch 5/15\n",
            "79/79 [==============================] - 7s 85ms/step - loss: 0.0018\n",
            "Epoch 6/15\n",
            "79/79 [==============================] - 7s 95ms/step - loss: 0.0018\n",
            "Epoch 7/15\n",
            "79/79 [==============================] - 7s 87ms/step - loss: 0.0016\n",
            "Epoch 8/15\n",
            "79/79 [==============================] - 8s 103ms/step - loss: 0.0015\n",
            "Epoch 9/15\n",
            "79/79 [==============================] - 10s 124ms/step - loss: 0.0014\n",
            "Epoch 10/15\n",
            "79/79 [==============================] - 9s 112ms/step - loss: 0.0013\n",
            "Epoch 11/15\n",
            "79/79 [==============================] - 6s 81ms/step - loss: 0.0013\n",
            "Epoch 12/15\n",
            "79/79 [==============================] - 8s 103ms/step - loss: 0.0013\n",
            "Epoch 13/15\n",
            "79/79 [==============================] - 6s 81ms/step - loss: 0.0016\n",
            "Epoch 14/15\n",
            "79/79 [==============================] - 8s 101ms/step - loss: 0.0013\n",
            "Epoch 15/15\n",
            "79/79 [==============================] - 7s 82ms/step - loss: 0.0012\n"
          ]
        },
        {
          "output_type": "execute_result",
          "data": {
            "text/plain": [
              "<keras.src.callbacks.History at 0x7c4e51092bf0>"
            ]
          },
          "metadata": {},
          "execution_count": 7
        }
      ]
    },
    {
      "cell_type": "code",
      "source": [
        "import yfinance as yf\n",
        "import datetime as dt\n",
        "import pandas as pd\n",
        "\n",
        "# Define the company ticker symbol\n",
        "company = \"BTC-USD\"\n",
        "\n",
        "# Define the start and end dates for the test set\n",
        "test_start = dt.datetime(2022, 1, 1)\n",
        "test_end = dt.datetime.now()\n",
        "\n",
        "# Fetch data for the test set\n",
        "test_data = yf.download(company, start=test_start, end=test_end)\n",
        "print(\"Type of test_data:\", type(test_data))\n",
        "print(\"test_data:\", test_data)\n",
        "\n",
        "actual_prices = test_data[\"Close\"].values\n",
        "total_dataset = pd.concat((data[\"Close\"], test_data[\"Close\"]), axis = 0)\n",
        "\n"
      ],
      "metadata": {
        "colab": {
          "base_uri": "https://localhost:8080/"
        },
        "id": "icMtbvDBePH7",
        "outputId": "5ccf83d9-f00b-4573-a2fe-4960314de67e"
      },
      "execution_count": 8,
      "outputs": [
        {
          "output_type": "stream",
          "name": "stderr",
          "text": [
            "\r[*********************100%%**********************]  1 of 1 completed"
          ]
        },
        {
          "output_type": "stream",
          "name": "stdout",
          "text": [
            "Type of test_data: <class 'pandas.core.frame.DataFrame'>\n",
            "test_data:                     Open          High           Low         Close  \\\n",
            "Date                                                                 \n",
            "2022-01-01  46311.746094  47827.312500  46288.484375  47686.812500   \n",
            "2022-01-02  47680.925781  47881.406250  46856.937500  47345.218750   \n",
            "2022-01-03  47343.542969  47510.726562  45835.964844  46458.117188   \n",
            "2022-01-04  46458.851562  47406.546875  45752.464844  45897.574219   \n",
            "2022-01-05  45899.359375  46929.046875  42798.222656  43569.003906   \n",
            "...                  ...           ...           ...           ...   \n",
            "2024-04-01  71333.484375  71342.093750  68110.695312  69702.148438   \n",
            "2024-04-02  69705.023438  69708.382812  64586.593750  65446.972656   \n",
            "2024-04-03  65446.671875  66914.320312  64559.898438  65980.812500   \n",
            "2024-04-04  65975.695312  69291.257812  65113.796875  68508.843750   \n",
            "2024-04-06  67845.937500  68138.195312  67532.992188  67981.382812   \n",
            "\n",
            "               Adj Close       Volume  \n",
            "Date                                   \n",
            "2022-01-01  47686.812500  24582667004  \n",
            "2022-01-02  47345.218750  27951569547  \n",
            "2022-01-03  46458.117188  33071628362  \n",
            "2022-01-04  45897.574219  42494677905  \n",
            "2022-01-05  43569.003906  36851084859  \n",
            "...                  ...          ...  \n",
            "2024-04-01  69702.148438  34873527352  \n",
            "2024-04-02  65446.972656  50705240709  \n",
            "2024-04-03  65980.812500  34488018367  \n",
            "2024-04-04  68508.843750  34439527442  \n",
            "2024-04-06  67981.382812  30654083072  \n",
            "\n",
            "[826 rows x 6 columns]\n"
          ]
        },
        {
          "output_type": "stream",
          "name": "stderr",
          "text": [
            "\n"
          ]
        }
      ]
    },
    {
      "cell_type": "code",
      "source": [
        "model_inputs = total_dataset[len(total_dataset) - len(test_data) - prediction_days:].values # Important\n",
        "model_inputs = model_inputs.reshape(-1, 1)\n",
        "model_inputs = scaler.transform(model_inputs)\n"
      ],
      "metadata": {
        "id": "lnOlbOW-eRjg"
      },
      "execution_count": 9,
      "outputs": []
    },
    {
      "cell_type": "code",
      "source": [
        "# Loop for making predictions\n",
        "for x in range(prediction_days-1):\n",
        "\n",
        "\n",
        "    # Make Predictions on Test Data\n",
        "    x_test = []\n",
        "\n",
        "    for x in range(prediction_days, len(model_inputs)+1):\n",
        "        x_test.append(model_inputs[x-prediction_days:x, 0])\n",
        "\n",
        "    x_test = np.array(x_test)\n",
        "    x_test = np.reshape(x_test, (x_test.shape[0], x_test.shape[1], 1))\n",
        "\n",
        "    predicted_prices = model.predict(x_test)\n",
        "    predicted_prices = scaler.inverse_transform(predicted_prices)\n"
      ],
      "metadata": {
        "colab": {
          "base_uri": "https://localhost:8080/"
        },
        "id": "6EDKYIl1eVAz",
        "outputId": "d5c1c5b7-673e-4de2-f794-e044fb32c994"
      },
      "execution_count": 10,
      "outputs": [
        {
          "output_type": "stream",
          "name": "stdout",
          "text": [
            "26/26 [==============================] - 2s 34ms/step\n",
            "26/26 [==============================] - 1s 33ms/step\n",
            "26/26 [==============================] - 1s 35ms/step\n",
            "26/26 [==============================] - 1s 25ms/step\n",
            "26/26 [==============================] - 1s 24ms/step\n",
            "26/26 [==============================] - 1s 23ms/step\n",
            "26/26 [==============================] - 1s 24ms/step\n",
            "26/26 [==============================] - 1s 23ms/step\n",
            "26/26 [==============================] - 1s 24ms/step\n",
            "26/26 [==============================] - 1s 23ms/step\n",
            "26/26 [==============================] - 1s 23ms/step\n",
            "26/26 [==============================] - 1s 23ms/step\n",
            "26/26 [==============================] - 1s 23ms/step\n",
            "26/26 [==============================] - 1s 24ms/step\n",
            "26/26 [==============================] - 1s 23ms/step\n",
            "26/26 [==============================] - 1s 31ms/step\n",
            "26/26 [==============================] - 1s 34ms/step\n",
            "26/26 [==============================] - 1s 35ms/step\n",
            "26/26 [==============================] - 1s 32ms/step\n",
            "26/26 [==============================] - 1s 23ms/step\n",
            "26/26 [==============================] - 1s 24ms/step\n",
            "26/26 [==============================] - 1s 23ms/step\n",
            "26/26 [==============================] - 1s 23ms/step\n",
            "26/26 [==============================] - 1s 26ms/step\n",
            "26/26 [==============================] - 1s 25ms/step\n",
            "26/26 [==============================] - 1s 27ms/step\n",
            "26/26 [==============================] - 1s 27ms/step\n",
            "26/26 [==============================] - 1s 23ms/step\n",
            "26/26 [==============================] - 1s 23ms/step\n",
            "26/26 [==============================] - 1s 26ms/step\n",
            "26/26 [==============================] - 1s 36ms/step\n",
            "26/26 [==============================] - 1s 35ms/step\n",
            "26/26 [==============================] - 1s 35ms/step\n",
            "26/26 [==============================] - 1s 24ms/step\n",
            "26/26 [==============================] - 1s 24ms/step\n",
            "26/26 [==============================] - 1s 25ms/step\n",
            "26/26 [==============================] - 1s 24ms/step\n",
            "26/26 [==============================] - 1s 23ms/step\n",
            "26/26 [==============================] - 1s 22ms/step\n",
            "26/26 [==============================] - 1s 24ms/step\n",
            "26/26 [==============================] - 1s 24ms/step\n",
            "26/26 [==============================] - 1s 26ms/step\n",
            "26/26 [==============================] - 1s 29ms/step\n",
            "26/26 [==============================] - 1s 39ms/step\n",
            "26/26 [==============================] - 1s 36ms/step\n",
            "26/26 [==============================] - 1s 26ms/step\n",
            "26/26 [==============================] - 1s 23ms/step\n",
            "26/26 [==============================] - 1s 23ms/step\n",
            "26/26 [==============================] - 1s 23ms/step\n",
            "26/26 [==============================] - 1s 23ms/step\n",
            "26/26 [==============================] - 1s 23ms/step\n",
            "26/26 [==============================] - 1s 23ms/step\n",
            "26/26 [==============================] - 1s 22ms/step\n",
            "26/26 [==============================] - 1s 23ms/step\n",
            "26/26 [==============================] - 1s 23ms/step\n",
            "26/26 [==============================] - 1s 23ms/step\n",
            "26/26 [==============================] - 1s 24ms/step\n",
            "26/26 [==============================] - 1s 24ms/step\n",
            "26/26 [==============================] - 1s 25ms/step\n"
          ]
        }
      ]
    },
    {
      "cell_type": "code",
      "source": [
        "\n",
        "    # Predict Next Day\n",
        "    real_data = [model_inputs[len(model_inputs) + 1 - prediction_days:len(model_inputs+1), 0]]\n",
        "    real_data = np.array(real_data)\n",
        "    real_data = np.reshape(real_data, (real_data.shape[0], real_data.shape[1], 1))\n",
        "\n",
        "    # Formatting the prediction and printing it\n",
        "    prediction = model.predict(real_data)\n",
        "    prediction = scaler.inverse_transform(prediction)\n",
        "    print(f\"Prediction: {prediction}\\n\")\n",
        "\n",
        "    # Adding the prediction back into the model for the next prediction\n",
        "    model_prediction_input = prediction\n",
        "    model_prediction_input = model_prediction_input.reshape(-1, 1)\n",
        "    model_prediction_input = scaler.transform(model_prediction_input)\n",
        "    model_inputs = np.concatenate((model_inputs, model_prediction_input))"
      ],
      "metadata": {
        "colab": {
          "base_uri": "https://localhost:8080/"
        },
        "id": "ZxwvH59Xeber",
        "outputId": "4d640d86-6e56-4d25-bef0-5b67769588d7"
      },
      "execution_count": 11,
      "outputs": [
        {
          "output_type": "stream",
          "name": "stdout",
          "text": [
            "1/1 [==============================] - 1s 1s/step\n",
            "Prediction: [[66785.91]]\n",
            "\n"
          ]
        }
      ]
    },
    {
      "cell_type": "code",
      "source": [
        "output = model.predict(real_data)\n",
        "output = scaler.inverse_transform(output)\n",
        "print(f\"Prediction for 60 days: {output}\")\n",
        "\n",
        "\n",
        "\n",
        "\n",
        "tf.keras.models.save_model(model,\"btc.pbtxt\")\n",
        "converter = lite.TFLiteConverter.from_keras_model(model = model)\n",
        "converter.optimizations = [tf.lite.Optimize.DEFAULT]\n",
        "converter.experimental_new_converter=True\n",
        "converter.target_spec.supported_ops = [tf.lite.OpsSet.TFLITE_BUILTINS,\n",
        "tf.lite.OpsSet.SELECT_TF_OPS]\n",
        "model_tflite = converter.convert()\n",
        "open(\"BTCPrediction.tflite\", \"wb\").write(model_tflite)\n"
      ],
      "metadata": {
        "colab": {
          "base_uri": "https://localhost:8080/"
        },
        "id": "cDKbT7PEed1a",
        "outputId": "1e9b6af6-9967-4f12-c7e3-4ef259699fb1"
      },
      "execution_count": 12,
      "outputs": [
        {
          "output_type": "stream",
          "name": "stdout",
          "text": [
            "1/1 [==============================] - 0s 41ms/step\n",
            "Prediction for 60 days: [[66785.91]]\n"
          ]
        },
        {
          "output_type": "execute_result",
          "data": {
            "text/plain": [
              "78800"
            ]
          },
          "metadata": {},
          "execution_count": 12
        }
      ]
    },
    {
      "cell_type": "code",
      "source": [
        "plt.plot(actual_prices, color=\"black\", label=f\"Actual {company} Price\")\n",
        "plt.plot(predicted_prices, color=\"green\", label=f\"Predicted {company} Price\")\n",
        "plt.title(f\"{company} Share Price\")\n",
        "plt.xlabel(\"Days\")\n",
        "plt.ylabel(f\"{company} Share Price\")\n",
        "plt.legend()\n",
        "plt.show()\n"
      ],
      "metadata": {
        "colab": {
          "base_uri": "https://localhost:8080/",
          "height": 472
        },
        "id": "3qiRvA4Lv0s2",
        "outputId": "abae1f1d-69aa-4130-9ed8-796c39bd68b8"
      },
      "execution_count": null,
      "outputs": [
        {
          "output_type": "display_data",
          "data": {
            "text/plain": [
              "<Figure size 640x480 with 1 Axes>"
            ],
            "image/png": "[encoded data removed]"
          },
          "metadata": {}
        }
      ]
    }
  ]
}